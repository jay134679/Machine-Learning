{
 "cells": [
  {
   "cell_type": "code",
   "execution_count": 1,
   "metadata": {
    "collapsed": true
   },
   "outputs": [],
   "source": [
    "import numpy as np\n",
    "import matplotlib.pyplot as plt\n",
    "\n",
    "from sklearn.tree import DecisionTreeClassifier\n",
    "import math"
   ]
  },
  {
   "cell_type": "markdown",
   "metadata": {},
   "source": [
    "### 2 Decision Trees\n",
    "2.1 Trees on the Banana Dataset"
   ]
  },
  {
   "cell_type": "code",
   "execution_count": 2,
   "metadata": {
    "collapsed": true
   },
   "outputs": [],
   "source": [
    "\n",
    "n_classes = 2\n",
    "plot_colors = \"bry\"\n",
    "plot_step = 0.02"
   ]
  },
  {
   "cell_type": "code",
   "execution_count": 3,
   "metadata": {
    "collapsed": false
   },
   "outputs": [],
   "source": [
    "import csv\n",
    "train = []\n",
    "for y, x1,x2 in csv.reader(open(\"data/banana_train.csv\")):\n",
    "    element = [float(y),float(x1),float(x2)]\n",
    "    train.append(element)"
   ]
  },
  {
   "cell_type": "code",
   "execution_count": 4,
   "metadata": {
    "collapsed": false
   },
   "outputs": [],
   "source": [
    "test = []\n",
    "for y, x1,x2 in csv.reader(open(\"data/banana_test.csv\")):\n",
    "    element = [float(y),float(x1),float(x2)]\n",
    "    test.append(element)"
   ]
  },
  {
   "cell_type": "code",
   "execution_count": 5,
   "metadata": {
    "collapsed": false
   },
   "outputs": [],
   "source": [
    "np.random.seed(13)\n",
    "test = np.asarray(test)\n",
    "train = np.asarray(train)\n",
    "np.random.shuffle(train)"
   ]
  },
  {
   "cell_type": "code",
   "execution_count": 6,
   "metadata": {
    "collapsed": false
   },
   "outputs": [],
   "source": [
    "train_y = train[:,0]\n",
    "train_X = train[:,[1,2]]"
   ]
  },
  {
   "cell_type": "code",
   "execution_count": 7,
   "metadata": {
    "collapsed": true
   },
   "outputs": [],
   "source": [
    "test_y = test[:,0]\n",
    "test_X = test[:,[1,2]]"
   ]
  },
  {
   "cell_type": "code",
   "execution_count": 8,
   "metadata": {
    "collapsed": true
   },
   "outputs": [],
   "source": [
    "mean = train_X.mean(axis=0)\n",
    "std = train_X.std(axis=0)\n",
    "train_X = (train_X - mean) / std\n",
    "train_y[np.where(train_y == -1)] = 0\n",
    "\n",
    "mean = test_X.mean(axis=0)\n",
    "std = test_X.std(axis=0)\n",
    "test_X = (test_X - mean) / std\n",
    "test_y[np.where(test_y == -1)] = 0"
   ]
  },
  {
   "cell_type": "code",
   "execution_count": 9,
   "metadata": {
    "collapsed": false
   },
   "outputs": [],
   "source": [
    "def draw_banana_decision_tree(depth=10,show_graph=False):\n",
    "    clf = DecisionTreeClassifier(max_depth=depth,criterion=\"entropy\").fit(train_X, train_y)\n",
    "\n",
    "\n",
    "    x_min, x_max = train_X[:, 0].min() - 1, train_X[:, 0].max() + 1\n",
    "    y_min, y_max = train_X[:, 1].min() - 1, train_X[:, 1].max() + 1\n",
    "    xx, yy = np.meshgrid(np.arange(x_min, x_max, plot_step),\n",
    "                         np.arange(y_min, y_max, plot_step))\n",
    "\n",
    "    Z = clf.predict(np.c_[xx.ravel(), yy.ravel()])\n",
    "    Z = Z.reshape(xx.shape)\n",
    "    \n",
    "    if show_graph == True:\n",
    "        cs = plt.contourf(xx, yy, Z, cmap=plt.cm.Paired)\n",
    "\n",
    "        plt.xlabel(\"feature 1\")\n",
    "        plt.ylabel(\"feature 2\")\n",
    "        plt.axis(\"tight\")\n",
    "\n",
    "        for i, color in zip(range(n_classes), plot_colors):\n",
    "            idx = np.where(train_y == i)\n",
    "            plt.scatter(train_X[idx, 0], train_X[idx, 1], c=color,\n",
    "                        cmap=plt.cm.Paired)\n",
    "\n",
    "        plt.suptitle(\"Decision surface of a decision tree using paired features\")\n",
    "        plt.legend()\n",
    "        plt.show()\n",
    "    \n",
    "    return clf"
   ]
  },
  {
   "cell_type": "code",
   "execution_count": 77,
   "metadata": {
    "collapsed": true
   },
   "outputs": [],
   "source": [
    "draw_banana_decision_tree(depth=10)"
   ]
  },
  {
   "cell_type": "markdown",
   "metadata": {},
   "source": [
    "Run your code for different depths of decision trees, from 1 through 10, and briefly describe\n",
    "your observations of the decision surface visualization."
   ]
  },
  {
   "cell_type": "code",
   "execution_count": 78,
   "metadata": {
    "collapsed": false
   },
   "outputs": [],
   "source": [
    "for i in range(1,11):\n",
    "    drarw_banana_decision_tree(depth=i)"
   ]
  },
  {
   "cell_type": "code",
   "execution_count": 91,
   "metadata": {
    "collapsed": false
   },
   "outputs": [
    {
     "data": {
      "text/plain": [
       "0.042857142857142858"
      ]
     },
     "execution_count": 91,
     "metadata": {},
     "output_type": "execute_result"
    }
   ],
   "source": [
    "sum(abs(clf.predict(train_X) - train_y))/int(train_X.shape[0])"
   ]
  },
  {
   "cell_type": "code",
   "execution_count": 103,
   "metadata": {
    "collapsed": false
   },
   "outputs": [],
   "source": [
    "errors = [[],[]]\n",
    "for i in range(1,11):\n",
    "    model = draw_banana_decision_tree(depth=i,show_graph=False)\n",
    "    errors[0].append(sum(abs(model.predict(train_X) - train_y))/int(train_X.shape[0]))\n",
    "    errors[1].append(sum(abs(model.predict(test_X) - test_y))/int(test_X.shape[0]))"
   ]
  },
  {
   "cell_type": "code",
   "execution_count": 110,
   "metadata": {
    "collapsed": false
   },
   "outputs": [],
   "source": [
    "line_train_error, = plt.plot(range(1,11),errors[0], label=\"train error\")\n",
    "line_test_error, = plt.plot(range(1,11),errors[1], label=\"test error\")\n",
    "\n",
    "plt.legend(handles=[line_train_error, line_test_error])\n",
    "plt.show()"
   ]
  },
  {
   "cell_type": "code",
   "execution_count": 117,
   "metadata": {
    "collapsed": false
   },
   "outputs": [
    {
     "name": "stdout",
     "output_type": "stream",
     "text": [
      "6\n"
     ]
    }
   ],
   "source": [
    "best_depth = errors[1].index(min(errors[1]))+1\n",
    "print best_depth"
   ]
  },
  {
   "cell_type": "code",
   "execution_count": 120,
   "metadata": {
    "collapsed": false
   },
   "outputs": [
    {
     "name": "stdout",
     "output_type": "stream",
     "text": [
      "0.124444444444\n",
      "0.125\n"
     ]
    }
   ],
   "source": [
    "model = DecisionTreeClassifier(max_depth=best_depth,criterion=\"entropy\").fit(train_X, train_y)\n",
    "print sum(abs(model.predict(test_X) - test_y))/int(test_X.shape[0])\n",
    "model = DecisionTreeClassifier(max_depth=best_depth,criterion=\"gini\").fit(train_X, train_y)\n",
    "print sum(abs(model.predict(test_X) - test_y))/int(test_X.shape[0])"
   ]
  },
  {
   "cell_type": "code",
   "execution_count": 124,
   "metadata": {
    "collapsed": false
   },
   "outputs": [
    {
     "name": "stdout",
     "output_type": "stream",
     "text": [
      "0.138333333333\n",
      "0.131666666667\n",
      "0.135\n"
     ]
    }
   ],
   "source": [
    "features = [\"auto\",\"sqrt\",\"log2\"]\n",
    "for feature in features:\n",
    "    model = DecisionTreeClassifier(max_depth=best_depth,criterion=\"entropy\",max_features=feature).fit(train_X, train_y)\n",
    "    print sum(abs(model.predict(test_X) - test_y))/int(test_X.shape[0])"
   ]
  },
  {
   "cell_type": "markdown",
   "metadata": {},
   "source": [
    "### 3 AdaBoost\n",
    "3.1 Implementation"
   ]
  },
  {
   "cell_type": "code",
   "execution_count": 10,
   "metadata": {
    "collapsed": true
   },
   "outputs": [],
   "source": [
    "train_y[np.where(train_y == 0)] = -1\n",
    "test_y[np.where(test_y == 0)] = -1"
   ]
  },
  {
   "cell_type": "code",
   "execution_count": 150,
   "metadata": {
    "collapsed": false
   },
   "outputs": [],
   "source": [
    "# initialize weight with each one equal\n",
    "weight = np.ones(train_X.shape[0])\n",
    "\n",
    "err = []\n",
    "G = []\n",
    "G_test = []\n",
    "e_alpha = []\n",
    "for i in range(0,10):\n",
    "    model = DecisionTreeClassifier(max_depth=3,criterion=\"entropy\")\n",
    "    model.fit(train_X, train_y,sample_weight=weight)\n",
    "    G.append(model.predict(train_X))\n",
    "    G_test.append(model.predict(test_X))\n",
    "    err.append(sum(abs(G[i] - train_y)*weight)/sum(weight)/2)\n",
    "    e_alpha.append(((1-err[i])/err[i]))\n",
    "    wrong = abs(G[i] - train_y)\n",
    "    idx = np.where( wrong == 2 )\n",
    "    weight[idx] = weight[idx] * e_alpha[i]\n"
   ]
  },
  {
   "cell_type": "code",
   "execution_count": 141,
   "metadata": {
    "collapsed": false
   },
   "outputs": [],
   "source": [
    "G_combined = np.zeros(train_X.shape[0])\n",
    "for i in range(0,len(e_alpha)):\n",
    "    G_combined = G_combined + G[i] * math.log(e_alpha[i])\n",
    "G_combined = np.sign(G_combined)\n",
    "print (sum(abs(G_combined - train_y))/int(train_X.shape[0]))/2"
   ]
  },
  {
   "cell_type": "code",
   "execution_count": 147,
   "metadata": {
    "collapsed": false,
    "scrolled": true
   },
   "outputs": [
    {
     "name": "stdout",
     "output_type": "stream",
     "text": [
      "0.188285714286\n",
      "0.326285714286\n",
      "0.314\n",
      "0.390571428571\n",
      "0.417142857143\n",
      "0.323428571429\n",
      "0.386857142857\n",
      "0.351714285714\n",
      "0.466\n",
      "0.417714285714\n"
     ]
    }
   ],
   "source": [
    "for i in range(0,len(e_alpha)):\n",
    "    print (sum(abs(G[i] - train_y))/int(train_X.shape[0]))/2"
   ]
  },
  {
   "cell_type": "code",
   "execution_count": 153,
   "metadata": {
    "collapsed": false
   },
   "outputs": [
    {
     "data": {
      "text/plain": [
       "0.11333333333333333"
      ]
     },
     "execution_count": 153,
     "metadata": {},
     "output_type": "execute_result"
    }
   ],
   "source": [
    "G_t_combined = np.zeros(test_X.shape[0])\n",
    "for i in range(0,len(e_alpha)):\n",
    "    G_t_combined = G_t_combined + G_test[i] * math.log(e_alpha[i])\n",
    "G_t_combined = np.sign(G_t_combined)\n",
    "(sum(abs(G_t_combined - test_y))/int(test_X.shape[0]))/2"
   ]
  },
  {
   "cell_type": "code",
   "execution_count": 151,
   "metadata": {
    "collapsed": false
   },
   "outputs": [
    {
     "name": "stdout",
     "output_type": "stream",
     "text": [
      "0.190555555556\n",
      "0.321111111111\n",
      "0.339444444444\n",
      "0.413888888889\n",
      "0.435555555556\n",
      "0.323888888889\n",
      "0.384444444444\n",
      "0.373333333333\n",
      "0.467222222222\n",
      "0.418888888889\n"
     ]
    }
   ],
   "source": [
    "for i in range(0,len(e_alpha)):\n",
    "    print (sum(abs(G_test[i] - test_y))/int(test_X.shape[0]))/2"
   ]
  },
  {
   "cell_type": "code",
   "execution_count": 164,
   "metadata": {
    "collapsed": true
   },
   "outputs": [],
   "source": [
    "def draw_banana_decision_tree_with_weight(weight,depth=3,show_graph=True):\n",
    "    clf = DecisionTreeClassifier(max_depth=depth,criterion=\"entropy\").fit(train_X, train_y,sample_weight=weight)\n",
    "\n",
    "\n",
    "    x_min, x_max = train_X[:, 0].min() - 1, train_X[:, 0].max() + 1\n",
    "    y_min, y_max = train_X[:, 1].min() - 1, train_X[:, 1].max() + 1\n",
    "    xx, yy = np.meshgrid(np.arange(x_min, x_max, plot_step),\n",
    "                         np.arange(y_min, y_max, plot_step))\n",
    "\n",
    "    Z = clf.predict(np.c_[xx.ravel(), yy.ravel()])\n",
    "    Z = Z.reshape(xx.shape)\n",
    "    \n",
    "    if show_graph == True:\n",
    "        cs = plt.contourf(xx, yy, Z, cmap=plt.cm.Paired)\n",
    "\n",
    "        plt.xlabel(\"feature 1\")\n",
    "        plt.ylabel(\"feature 2\")\n",
    "        plt.axis(\"tight\")\n",
    "\n",
    "        for i, color in [(-1, 'b'), (1, 'r')]:\n",
    "            idx = np.where(train_y == i)\n",
    "            plt.scatter(train_X[idx, 0], train_X[idx, 1], c=color,\n",
    "                        cmap=plt.cm.Paired, s=weight*2)\n",
    "\n",
    "        plt.suptitle(\"Decision surface of a decision tree using paired features\")\n",
    "        plt.legend()\n",
    "        plt.show()\n",
    "    \n",
    "    return clf"
   ]
  },
  {
   "cell_type": "code",
   "execution_count": 165,
   "metadata": {
    "collapsed": false
   },
   "outputs": [],
   "source": [
    "# initialize weight with each one equal\n",
    "weight = np.ones(train_X.shape[0])\n",
    "\n",
    "err = []\n",
    "G = []\n",
    "G_test = []\n",
    "e_alpha = []\n",
    "for i in range(0,10):\n",
    "    model = draw_banana_decision_tree_with_weight(weight=weight,depth=3,show_graph=True)\n",
    "    model.fit(train_X, train_y,sample_weight=weight)\n",
    "    G.append(model.predict(train_X))\n",
    "    G_test.append(model.predict(test_X))\n",
    "    err.append(sum(abs(G[i] - train_y)*weight)/sum(weight)/2)\n",
    "    e_alpha.append(((1-err[i])/err[i]))\n",
    "    wrong = abs(G[i] - train_y)\n",
    "    idx = np.where( wrong == 2 )\n",
    "    weight[idx] = weight[idx] * e_alpha[i]\n"
   ]
  },
  {
   "cell_type": "code",
   "execution_count": null,
   "metadata": {
    "collapsed": true
   },
   "outputs": [],
   "source": []
  }
 ],
 "metadata": {
  "kernelspec": {
   "display_name": "Python 2",
   "language": "python",
   "name": "python2"
  },
  "language_info": {
   "codemirror_mode": {
    "name": "ipython",
    "version": 2
   },
   "file_extension": ".py",
   "mimetype": "text/x-python",
   "name": "python",
   "nbconvert_exporter": "python",
   "pygments_lexer": "ipython2",
   "version": "2.7.11"
  }
 },
 "nbformat": 4,
 "nbformat_minor": 0
}
